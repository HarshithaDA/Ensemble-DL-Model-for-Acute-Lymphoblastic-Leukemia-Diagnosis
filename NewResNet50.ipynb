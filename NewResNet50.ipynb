{
  "nbformat": 4,
  "nbformat_minor": 0,
  "metadata": {
    "colab": {
      "provenance": [],
      "gpuType": "T4"
    },
    "kernelspec": {
      "name": "python3",
      "display_name": "Python 3"
    },
    "language_info": {
      "name": "python"
    },
    "accelerator": "TPU"
  },
  "cells": [
    {
      "cell_type": "code",
      "source": [
        "from google.colab import drive\n",
        "drive.mount('/content/drive')"
      ],
      "metadata": {
        "colab": {
          "base_uri": "https://localhost:8080/"
        },
        "id": "lkQ8TW-BcQpB",
        "outputId": "6a3007e2-489e-4f18-b305-c94b6f055805"
      },
      "execution_count": null,
      "outputs": [
        {
          "output_type": "stream",
          "name": "stdout",
          "text": [
            "Mounted at /content/drive\n"
          ]
        }
      ]
    },
    {
      "cell_type": "code",
      "source": [
        "import os\n",
        "from tensorflow.keras.preprocessing.image import ImageDataGenerator\n",
        "import numpy as np\n",
        "import tensorflow as tf\n",
        "from tensorflow import keras\n",
        "from tensorflow.keras import layers\n",
        "# from tensorflow.python.keras.layers import Dense, Flatten\n",
        "from tensorflow.keras.layers import Dense, Flatten\n",
        "from tensorflow.keras.models import Sequential\n",
        "from tensorflow.keras.optimizers import Adam"
      ],
      "metadata": {
        "id": "vRFf2QCYb0Fr"
      },
      "execution_count": null,
      "outputs": []
    },
    {
      "cell_type": "code",
      "source": [
        "DIR_MAIN = '/content/drive/MyDrive/CCPS/SplitDataset'\n",
        "\n",
        "TEST_DIR = DIR_MAIN + '/test'\n",
        "TRAIN_DIR = DIR_MAIN + '/train'\n",
        "VAL_DIR = DIR_MAIN + '/val'\n",
        "\n",
        "# TEST_B = DIR_MAIN + '/test/Benign'\n",
        "# TEST_E = DIR_MAIN + '/test/Early'\n",
        "# TEST_Pre = DIR_MAIN + '/test/Pre'\n",
        "# TEST_Pro = DIR_MAIN + '/test/Pro'\n",
        "\n",
        "\n",
        "# TRAIN_B = DIR_MAIN + '/train/Benign'\n",
        "# TRAIN_E = DIR_MAIN + '/train/Early'\n",
        "# TRAIN_Pre = DIR_MAIN + '/train/Pre'\n",
        "# TRAIN_Pro = DIR_MAIN + '/train/Pro'\n",
        "\n",
        "\n",
        "# VAL_B = DIR_MAIN + '/val/Benign'\n",
        "# VAL_E = DIR_MAIN + '/val/Early'\n",
        "# VAL_Pre = DIR_MAIN + '/val/Pre'\n",
        "# VAL_Pro = DIR_MAIN + '/val/Pro'"
      ],
      "metadata": {
        "id": "qlkWi3aJbu-x"
      },
      "execution_count": null,
      "outputs": []
    },
    {
      "cell_type": "code",
      "source": [
        "# img_height,img_width=180,180\n",
        "img_height,img_width=224,224\n",
        "batch_size=32"
      ],
      "metadata": {
        "id": "msnSn_H2cIIn"
      },
      "execution_count": null,
      "outputs": []
    },
    {
      "cell_type": "code",
      "source": [
        "image_gen_train = ImageDataGenerator(rescale = 1./255)\n",
        "\n",
        "train_data_gen = image_gen_train.flow_from_directory(\n",
        "    batch_size = batch_size,\n",
        "    directory = TRAIN_DIR,\n",
        "    shuffle= True,\n",
        "    target_size = (img_height,img_width),\n",
        "    class_mode = 'categorical')\n",
        "\n",
        "\n",
        "image_generator_validation = ImageDataGenerator(rescale=1./255)\n",
        "\n",
        "val_data_gen = image_generator_validation.flow_from_directory(\n",
        "    batch_size=batch_size,\n",
        "    directory=VAL_DIR,\n",
        "    target_size=(img_height, img_width),\n",
        "    class_mode='categorical')\n",
        "\n",
        "image_gen_test = ImageDataGenerator(rescale=1./255)\n",
        "\n",
        "test_data_gen = image_gen_test.flow_from_directory(\n",
        "    batch_size=batch_size,\n",
        "    directory=TEST_DIR,\n",
        "    target_size=(img_height, img_width),\n",
        "    class_mode='categorical')"
      ],
      "metadata": {
        "colab": {
          "base_uri": "https://localhost:8080/"
        },
        "id": "35Fnq0I5bzVR",
        "outputId": "ae2f18f5-7472-46fb-94d6-eb314f2756ff"
      },
      "execution_count": null,
      "outputs": [
        {
          "output_type": "stream",
          "name": "stdout",
          "text": [
            "Found 2263 images belonging to 4 classes.\n",
            "Found 649 images belonging to 4 classes.\n",
            "Found 330 images belonging to 4 classes.\n"
          ]
        }
      ]
    },
    {
      "cell_type": "code",
      "source": [
        "class_indices = test_data_gen.class_indices\n",
        "class_names = list(class_indices.keys())\n",
        "print(class_names)"
      ],
      "metadata": {
        "colab": {
          "base_uri": "https://localhost:8080/"
        },
        "id": "2Zf0U0RBcjQI",
        "outputId": "4b53dfb7-d62e-4c03-e661-48443f68f433"
      },
      "execution_count": null,
      "outputs": [
        {
          "output_type": "stream",
          "name": "stdout",
          "text": [
            "['Benign', 'Early', 'Pre', 'Pro']\n"
          ]
        }
      ]
    },
    {
      "cell_type": "markdown",
      "source": [
        "# ResNet50"
      ],
      "metadata": {
        "id": "jXCh6YBabXJ4"
      }
    },
    {
      "cell_type": "code",
      "source": [
        "resnet_model = Sequential()\n",
        "\n",
        "pretrained_model= tf.keras.applications.ResNet50(include_top=False,\n",
        "                   input_shape=(240,240,3),\n",
        "                   pooling='avg',classes=len(class_names),\n",
        "                   weights='imagenet')\n",
        "for layer in pretrained_model.layers:\n",
        "        layer.trainable=False\n",
        "\n",
        "resnet_model.add(pretrained_model)\n",
        "resnet_model.add(Flatten())\n",
        "resnet_model.add(Dense(512, activation='relu'))\n",
        "resnet_model.add(Dense(len(class_names), activation='softmax'))"
      ],
      "metadata": {
        "colab": {
          "base_uri": "https://localhost:8080/"
        },
        "id": "AT6DYXLxbbsy",
        "outputId": "ce87258f-6ce8-409a-de26-b428a44e0b81"
      },
      "execution_count": null,
      "outputs": [
        {
          "output_type": "stream",
          "name": "stdout",
          "text": [
            "Downloading data from https://storage.googleapis.com/tensorflow/keras-applications/resnet/resnet50_weights_tf_dim_ordering_tf_kernels_notop.h5\n",
            "94765736/94765736 [==============================] - 0s 0us/step\n"
          ]
        }
      ]
    },
    {
      "cell_type": "code",
      "source": [
        "resnet_model.summary()"
      ],
      "metadata": {
        "colab": {
          "base_uri": "https://localhost:8080/"
        },
        "id": "ECX-2pBPbjom",
        "outputId": "431790bb-8b73-49f9-c94f-04a9057bd903"
      },
      "execution_count": null,
      "outputs": [
        {
          "output_type": "stream",
          "name": "stdout",
          "text": [
            "Model: \"sequential\"\n",
            "_________________________________________________________________\n",
            " Layer (type)                Output Shape              Param #   \n",
            "=================================================================\n",
            " resnet50 (Functional)       (None, 2048)              23587712  \n",
            "                                                                 \n",
            " flatten (Flatten)           (None, 2048)              0         \n",
            "                                                                 \n",
            " dense (Dense)               (None, 512)               1049088   \n",
            "                                                                 \n",
            " dense_1 (Dense)             (None, 4)                 2052      \n",
            "                                                                 \n",
            "=================================================================\n",
            "Total params: 24,638,852\n",
            "Trainable params: 1,051,140\n",
            "Non-trainable params: 23,587,712\n",
            "_________________________________________________________________\n"
          ]
        }
      ]
    },
    {
      "cell_type": "code",
      "source": [
        "resnet_model.compile(optimizer=Adam(learning_rate=0.001),loss='categorical_crossentropy',metrics=['accuracy'])"
      ],
      "metadata": {
        "id": "KrRzYnhOblaY"
      },
      "execution_count": null,
      "outputs": []
    },
    {
      "cell_type": "code",
      "source": [
        "epochs=10\n",
        "history = resnet_model.fit(\n",
        "  train_data_gen,\n",
        "  validation_data=val_data_gen,\n",
        "  epochs=epochs\n",
        ")"
      ],
      "metadata": {
        "colab": {
          "base_uri": "https://localhost:8080/"
        },
        "id": "Bil55_Wubm-4",
        "outputId": "847f0415-aa27-42d7-ef5a-c9514ac66032"
      },
      "execution_count": null,
      "outputs": [
        {
          "output_type": "stream",
          "name": "stdout",
          "text": [
            "Epoch 1/10\n",
            "71/71 [==============================] - 454s 6s/step - loss: 0.8831 - accuracy: 0.6774 - val_loss: 0.7058 - val_accuracy: 0.7550\n",
            "Epoch 2/10\n",
            "71/71 [==============================] - 444s 6s/step - loss: 0.6370 - accuracy: 0.7574 - val_loss: 0.5916 - val_accuracy: 0.7797\n",
            "Epoch 3/10\n",
            "71/71 [==============================] - 393s 6s/step - loss: 0.5724 - accuracy: 0.7848 - val_loss: 0.5551 - val_accuracy: 0.7766\n",
            "Epoch 4/10\n",
            "71/71 [==============================] - 454s 6s/step - loss: 0.5361 - accuracy: 0.7985 - val_loss: 0.5082 - val_accuracy: 0.8105\n",
            "Epoch 5/10\n",
            "71/71 [==============================] - 445s 6s/step - loss: 0.5095 - accuracy: 0.8051 - val_loss: 0.4931 - val_accuracy: 0.7966\n",
            "Epoch 6/10\n",
            "71/71 [==============================] - 437s 6s/step - loss: 0.4969 - accuracy: 0.8007 - val_loss: 0.5339 - val_accuracy: 0.7827\n",
            "Epoch 7/10\n",
            "71/71 [==============================] - 435s 6s/step - loss: 0.4700 - accuracy: 0.8206 - val_loss: 0.5559 - val_accuracy: 0.7643\n",
            "Epoch 8/10\n",
            "71/71 [==============================] - 435s 6s/step - loss: 0.4605 - accuracy: 0.8171 - val_loss: 0.4642 - val_accuracy: 0.8151\n",
            "Epoch 9/10\n",
            "71/71 [==============================] - 378s 5s/step - loss: 0.4556 - accuracy: 0.8188 - val_loss: 0.4669 - val_accuracy: 0.8012\n",
            "Epoch 10/10\n",
            "71/71 [==============================] - 437s 6s/step - loss: 0.4317 - accuracy: 0.8255 - val_loss: 0.4253 - val_accuracy: 0.8197\n"
          ]
        }
      ]
    },
    {
      "cell_type": "code",
      "source": [
        "ALL_SAVED_MODEL_PATH = '/content/drive/MyDrive/CCPS/SavedModels/ResNet50_224.h5'\n",
        "resnet_model.save(ALL_SAVED_MODEL_PATH)"
      ],
      "metadata": {
        "id": "_2iOlfK9mie0"
      },
      "execution_count": null,
      "outputs": []
    },
    {
      "cell_type": "code",
      "source": [
        "val_image_batch, val_label_batch = next(iter(val_data_gen))\n",
        "true_label_ids = np.argmax(val_label_batch, axis=-1)\n",
        "print(\"Validation batch shape:\", val_image_batch.shape)"
      ],
      "metadata": {
        "colab": {
          "base_uri": "https://localhost:8080/"
        },
        "id": "wvwoASgk7ecp",
        "outputId": "21e31ac1-8fe8-4476-ef18-e5a174e6e8e0"
      },
      "execution_count": null,
      "outputs": [
        {
          "output_type": "stream",
          "name": "stdout",
          "text": [
            "Validation batch shape: (32, 224, 224, 3)\n"
          ]
        }
      ]
    },
    {
      "cell_type": "code",
      "source": [
        "results = resnet_model.evaluate(val_image_batch, val_label_batch)"
      ],
      "metadata": {
        "id": "ydmzzJ362mPX",
        "colab": {
          "base_uri": "https://localhost:8080/"
        },
        "outputId": "5f9233b3-5337-44d4-c857-e12f5610e397"
      },
      "execution_count": null,
      "outputs": [
        {
          "output_type": "stream",
          "name": "stdout",
          "text": [
            "1/1 [==============================] - 6s 6s/step - loss: 0.6219 - accuracy: 0.7188\n"
          ]
        }
      ]
    },
    {
      "cell_type": "code",
      "source": [
        "# Print the accuracy\n",
        "accuracy = results[1]  # Assuming accuracy is the second metric\n",
        "print(\"Accuracy: {:.2f}%\".format(accuracy * 100))"
      ],
      "metadata": {
        "colab": {
          "base_uri": "https://localhost:8080/"
        },
        "id": "jw48XJ5W7gM_",
        "outputId": "8f6dd51f-eb25-4726-8a6a-d4c4c8d621c5"
      },
      "execution_count": null,
      "outputs": [
        {
          "output_type": "stream",
          "name": "stdout",
          "text": [
            "Accuracy: 71.88%\n"
          ]
        }
      ]
    },
    {
      "cell_type": "code",
      "source": [],
      "metadata": {
        "id": "IlYJznMKPep0"
      },
      "execution_count": null,
      "outputs": []
    }
  ]
}